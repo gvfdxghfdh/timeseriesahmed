{
  "nbformat": 4,
  "nbformat_minor": 0,
  "metadata": {
    "colab": {
      "provenance": []
    },
    "kernelspec": {
      "name": "python3",
      "display_name": "Python 3"
    },
    "language_info": {
      "name": "python"
    }
  },
  "cells": [
    {
      "cell_type": "code",
      "source": [
        "import pandas as pd\n",
        "import matplotlib.pyplot as plt\n",
        "from statsmodels.tsa.arima.model import ARIMA\n",
        "from statsmodels.tsa.statespace.sarimax import SARIMAX\n",
        "from statsmodels.tsa.stattools import adfuller\n",
        "from statsmodels.graphics.tsaplots import plot_acf, plot_pacf\n",
        "import matplotlib.pyplot as plt\n",
        "from sklearn.metrics import mean_absolute_error, mean_squared_error, mean_absolute_percentage_error\n",
        "import numpy as np"
      ],
      "metadata": {
        "id": "6c4aS_--wMUI"
      },
      "execution_count": 22,
      "outputs": []
    },
    {
      "cell_type": "code",
      "source": [
        "df = pd.read_excel('/content/qatar-monthly-statistics-visitor-arrivals-by-mode-of-enteryecxel.xlsx')"
      ],
      "metadata": {
        "id": "VJx4v-uywcn3"
      },
      "execution_count": 23,
      "outputs": []
    },
    {
      "cell_type": "code",
      "source": [
        "df.rename(columns={\n",
        "    ' Air': 'Air Arrivals',\n",
        "    ' Land': 'Land Arrivals',\n",
        "    ' Sea': 'Sea Arrivals',\n",
        "    '  Total Visitor Arrivals': 'Total Visitor Arrivals'\n",
        "}, inplace=True)\n",
        "\n",
        "\n",
        "df.head()"
      ],
      "metadata": {
        "id": "LgUU0RwJw_Nt",
        "colab": {
          "base_uri": "https://localhost:8080/",
          "height": 206
        },
        "outputId": "a683c57f-aa6b-4970-d069-d2d28438feb8"
      },
      "execution_count": 24,
      "outputs": [
        {
          "output_type": "execute_result",
          "data": {
            "text/plain": [
              "     Month  Air Arrivals  Land Arrivals  Sea Arrivals  Total Visitor Arrivals\n",
              "0  2024-11        280402         208687         31479                  520568\n",
              "1  2024-03        196297          77090         55619                  329006\n",
              "2  2024-01        289633         327509         85666                  702808\n",
              "3  2023-12        270745         155378         92733                  518856\n",
              "4  2023-09        169986          75631          1500                  247117"
            ],
            "text/html": [
              "\n",
              "  <div id=\"df-a11675a2-9c0a-47eb-b8e1-a51164af1ec1\" class=\"colab-df-container\">\n",
              "    <div>\n",
              "<style scoped>\n",
              "    .dataframe tbody tr th:only-of-type {\n",
              "        vertical-align: middle;\n",
              "    }\n",
              "\n",
              "    .dataframe tbody tr th {\n",
              "        vertical-align: top;\n",
              "    }\n",
              "\n",
              "    .dataframe thead th {\n",
              "        text-align: right;\n",
              "    }\n",
              "</style>\n",
              "<table border=\"1\" class=\"dataframe\">\n",
              "  <thead>\n",
              "    <tr style=\"text-align: right;\">\n",
              "      <th></th>\n",
              "      <th>Month</th>\n",
              "      <th>Air Arrivals</th>\n",
              "      <th>Land Arrivals</th>\n",
              "      <th>Sea Arrivals</th>\n",
              "      <th>Total Visitor Arrivals</th>\n",
              "    </tr>\n",
              "  </thead>\n",
              "  <tbody>\n",
              "    <tr>\n",
              "      <th>0</th>\n",
              "      <td>2024-11</td>\n",
              "      <td>280402</td>\n",
              "      <td>208687</td>\n",
              "      <td>31479</td>\n",
              "      <td>520568</td>\n",
              "    </tr>\n",
              "    <tr>\n",
              "      <th>1</th>\n",
              "      <td>2024-03</td>\n",
              "      <td>196297</td>\n",
              "      <td>77090</td>\n",
              "      <td>55619</td>\n",
              "      <td>329006</td>\n",
              "    </tr>\n",
              "    <tr>\n",
              "      <th>2</th>\n",
              "      <td>2024-01</td>\n",
              "      <td>289633</td>\n",
              "      <td>327509</td>\n",
              "      <td>85666</td>\n",
              "      <td>702808</td>\n",
              "    </tr>\n",
              "    <tr>\n",
              "      <th>3</th>\n",
              "      <td>2023-12</td>\n",
              "      <td>270745</td>\n",
              "      <td>155378</td>\n",
              "      <td>92733</td>\n",
              "      <td>518856</td>\n",
              "    </tr>\n",
              "    <tr>\n",
              "      <th>4</th>\n",
              "      <td>2023-09</td>\n",
              "      <td>169986</td>\n",
              "      <td>75631</td>\n",
              "      <td>1500</td>\n",
              "      <td>247117</td>\n",
              "    </tr>\n",
              "  </tbody>\n",
              "</table>\n",
              "</div>\n",
              "    <div class=\"colab-df-buttons\">\n",
              "\n",
              "  <div class=\"colab-df-container\">\n",
              "    <button class=\"colab-df-convert\" onclick=\"convertToInteractive('df-a11675a2-9c0a-47eb-b8e1-a51164af1ec1')\"\n",
              "            title=\"Convert this dataframe to an interactive table.\"\n",
              "            style=\"display:none;\">\n",
              "\n",
              "  <svg xmlns=\"http://www.w3.org/2000/svg\" height=\"24px\" viewBox=\"0 -960 960 960\">\n",
              "    <path d=\"M120-120v-720h720v720H120Zm60-500h600v-160H180v160Zm220 220h160v-160H400v160Zm0 220h160v-160H400v160ZM180-400h160v-160H180v160Zm440 0h160v-160H620v160ZM180-180h160v-160H180v160Zm440 0h160v-160H620v160Z\"/>\n",
              "  </svg>\n",
              "    </button>\n",
              "\n",
              "  <style>\n",
              "    .colab-df-container {\n",
              "      display:flex;\n",
              "      gap: 12px;\n",
              "    }\n",
              "\n",
              "    .colab-df-convert {\n",
              "      background-color: #E8F0FE;\n",
              "      border: none;\n",
              "      border-radius: 50%;\n",
              "      cursor: pointer;\n",
              "      display: none;\n",
              "      fill: #1967D2;\n",
              "      height: 32px;\n",
              "      padding: 0 0 0 0;\n",
              "      width: 32px;\n",
              "    }\n",
              "\n",
              "    .colab-df-convert:hover {\n",
              "      background-color: #E2EBFA;\n",
              "      box-shadow: 0px 1px 2px rgba(60, 64, 67, 0.3), 0px 1px 3px 1px rgba(60, 64, 67, 0.15);\n",
              "      fill: #174EA6;\n",
              "    }\n",
              "\n",
              "    .colab-df-buttons div {\n",
              "      margin-bottom: 4px;\n",
              "    }\n",
              "\n",
              "    [theme=dark] .colab-df-convert {\n",
              "      background-color: #3B4455;\n",
              "      fill: #D2E3FC;\n",
              "    }\n",
              "\n",
              "    [theme=dark] .colab-df-convert:hover {\n",
              "      background-color: #434B5C;\n",
              "      box-shadow: 0px 1px 3px 1px rgba(0, 0, 0, 0.15);\n",
              "      filter: drop-shadow(0px 1px 2px rgba(0, 0, 0, 0.3));\n",
              "      fill: #FFFFFF;\n",
              "    }\n",
              "  </style>\n",
              "\n",
              "    <script>\n",
              "      const buttonEl =\n",
              "        document.querySelector('#df-a11675a2-9c0a-47eb-b8e1-a51164af1ec1 button.colab-df-convert');\n",
              "      buttonEl.style.display =\n",
              "        google.colab.kernel.accessAllowed ? 'block' : 'none';\n",
              "\n",
              "      async function convertToInteractive(key) {\n",
              "        const element = document.querySelector('#df-a11675a2-9c0a-47eb-b8e1-a51164af1ec1');\n",
              "        const dataTable =\n",
              "          await google.colab.kernel.invokeFunction('convertToInteractive',\n",
              "                                                    [key], {});\n",
              "        if (!dataTable) return;\n",
              "\n",
              "        const docLinkHtml = 'Like what you see? Visit the ' +\n",
              "          '<a target=\"_blank\" href=https://colab.research.google.com/notebooks/data_table.ipynb>data table notebook</a>'\n",
              "          + ' to learn more about interactive tables.';\n",
              "        element.innerHTML = '';\n",
              "        dataTable['output_type'] = 'display_data';\n",
              "        await google.colab.output.renderOutput(dataTable, element);\n",
              "        const docLink = document.createElement('div');\n",
              "        docLink.innerHTML = docLinkHtml;\n",
              "        element.appendChild(docLink);\n",
              "      }\n",
              "    </script>\n",
              "  </div>\n",
              "\n",
              "\n",
              "<div id=\"df-f83e3af8-1e07-4f9f-9017-95c3fe746c73\">\n",
              "  <button class=\"colab-df-quickchart\" onclick=\"quickchart('df-f83e3af8-1e07-4f9f-9017-95c3fe746c73')\"\n",
              "            title=\"Suggest charts\"\n",
              "            style=\"display:none;\">\n",
              "\n",
              "<svg xmlns=\"http://www.w3.org/2000/svg\" height=\"24px\"viewBox=\"0 0 24 24\"\n",
              "     width=\"24px\">\n",
              "    <g>\n",
              "        <path d=\"M19 3H5c-1.1 0-2 .9-2 2v14c0 1.1.9 2 2 2h14c1.1 0 2-.9 2-2V5c0-1.1-.9-2-2-2zM9 17H7v-7h2v7zm4 0h-2V7h2v10zm4 0h-2v-4h2v4z\"/>\n",
              "    </g>\n",
              "</svg>\n",
              "  </button>\n",
              "\n",
              "<style>\n",
              "  .colab-df-quickchart {\n",
              "      --bg-color: #E8F0FE;\n",
              "      --fill-color: #1967D2;\n",
              "      --hover-bg-color: #E2EBFA;\n",
              "      --hover-fill-color: #174EA6;\n",
              "      --disabled-fill-color: #AAA;\n",
              "      --disabled-bg-color: #DDD;\n",
              "  }\n",
              "\n",
              "  [theme=dark] .colab-df-quickchart {\n",
              "      --bg-color: #3B4455;\n",
              "      --fill-color: #D2E3FC;\n",
              "      --hover-bg-color: #434B5C;\n",
              "      --hover-fill-color: #FFFFFF;\n",
              "      --disabled-bg-color: #3B4455;\n",
              "      --disabled-fill-color: #666;\n",
              "  }\n",
              "\n",
              "  .colab-df-quickchart {\n",
              "    background-color: var(--bg-color);\n",
              "    border: none;\n",
              "    border-radius: 50%;\n",
              "    cursor: pointer;\n",
              "    display: none;\n",
              "    fill: var(--fill-color);\n",
              "    height: 32px;\n",
              "    padding: 0;\n",
              "    width: 32px;\n",
              "  }\n",
              "\n",
              "  .colab-df-quickchart:hover {\n",
              "    background-color: var(--hover-bg-color);\n",
              "    box-shadow: 0 1px 2px rgba(60, 64, 67, 0.3), 0 1px 3px 1px rgba(60, 64, 67, 0.15);\n",
              "    fill: var(--button-hover-fill-color);\n",
              "  }\n",
              "\n",
              "  .colab-df-quickchart-complete:disabled,\n",
              "  .colab-df-quickchart-complete:disabled:hover {\n",
              "    background-color: var(--disabled-bg-color);\n",
              "    fill: var(--disabled-fill-color);\n",
              "    box-shadow: none;\n",
              "  }\n",
              "\n",
              "  .colab-df-spinner {\n",
              "    border: 2px solid var(--fill-color);\n",
              "    border-color: transparent;\n",
              "    border-bottom-color: var(--fill-color);\n",
              "    animation:\n",
              "      spin 1s steps(1) infinite;\n",
              "  }\n",
              "\n",
              "  @keyframes spin {\n",
              "    0% {\n",
              "      border-color: transparent;\n",
              "      border-bottom-color: var(--fill-color);\n",
              "      border-left-color: var(--fill-color);\n",
              "    }\n",
              "    20% {\n",
              "      border-color: transparent;\n",
              "      border-left-color: var(--fill-color);\n",
              "      border-top-color: var(--fill-color);\n",
              "    }\n",
              "    30% {\n",
              "      border-color: transparent;\n",
              "      border-left-color: var(--fill-color);\n",
              "      border-top-color: var(--fill-color);\n",
              "      border-right-color: var(--fill-color);\n",
              "    }\n",
              "    40% {\n",
              "      border-color: transparent;\n",
              "      border-right-color: var(--fill-color);\n",
              "      border-top-color: var(--fill-color);\n",
              "    }\n",
              "    60% {\n",
              "      border-color: transparent;\n",
              "      border-right-color: var(--fill-color);\n",
              "    }\n",
              "    80% {\n",
              "      border-color: transparent;\n",
              "      border-right-color: var(--fill-color);\n",
              "      border-bottom-color: var(--fill-color);\n",
              "    }\n",
              "    90% {\n",
              "      border-color: transparent;\n",
              "      border-bottom-color: var(--fill-color);\n",
              "    }\n",
              "  }\n",
              "</style>\n",
              "\n",
              "  <script>\n",
              "    async function quickchart(key) {\n",
              "      const quickchartButtonEl =\n",
              "        document.querySelector('#' + key + ' button');\n",
              "      quickchartButtonEl.disabled = true;  // To prevent multiple clicks.\n",
              "      quickchartButtonEl.classList.add('colab-df-spinner');\n",
              "      try {\n",
              "        const charts = await google.colab.kernel.invokeFunction(\n",
              "            'suggestCharts', [key], {});\n",
              "      } catch (error) {\n",
              "        console.error('Error during call to suggestCharts:', error);\n",
              "      }\n",
              "      quickchartButtonEl.classList.remove('colab-df-spinner');\n",
              "      quickchartButtonEl.classList.add('colab-df-quickchart-complete');\n",
              "    }\n",
              "    (() => {\n",
              "      let quickchartButtonEl =\n",
              "        document.querySelector('#df-f83e3af8-1e07-4f9f-9017-95c3fe746c73 button');\n",
              "      quickchartButtonEl.style.display =\n",
              "        google.colab.kernel.accessAllowed ? 'block' : 'none';\n",
              "    })();\n",
              "  </script>\n",
              "</div>\n",
              "\n",
              "    </div>\n",
              "  </div>\n"
            ],
            "application/vnd.google.colaboratory.intrinsic+json": {
              "type": "dataframe",
              "variable_name": "df",
              "summary": "{\n  \"name\": \"df\",\n  \"rows\": 83,\n  \"fields\": [\n    {\n      \"column\": \"Month\",\n      \"properties\": {\n        \"dtype\": \"object\",\n        \"num_unique_values\": 83,\n        \"samples\": [\n          \"2024-08\",\n          \"2024-11\",\n          \"2019-02\"\n        ],\n        \"semantic_type\": \"\",\n        \"description\": \"\"\n      }\n    },\n    {\n      \"column\": \"Air Arrivals\",\n      \"properties\": {\n        \"dtype\": \"number\",\n        \"std\": 469036,\n        \"min\": 11645,\n        \"max\": 1939709,\n        \"num_unique_values\": 83,\n        \"samples\": [\n          210617,\n          280402,\n          316881\n        ],\n        \"semantic_type\": \"\",\n        \"description\": \"\"\n      }\n    },\n    {\n      \"column\": \"Land Arrivals\",\n      \"properties\": {\n        \"dtype\": \"number\",\n        \"std\": 69345,\n        \"min\": 0,\n        \"max\": 327509,\n        \"num_unique_values\": 49,\n        \"samples\": [\n          4797,\n          3787,\n          994\n        ],\n        \"semantic_type\": \"\",\n        \"description\": \"\"\n      }\n    },\n    {\n      \"column\": \"Sea Arrivals\",\n      \"properties\": {\n        \"dtype\": \"number\",\n        \"std\": 52220,\n        \"min\": 0,\n        \"max\": 196795,\n        \"num_unique_values\": 83,\n        \"samples\": [\n          1610,\n          31479,\n          59225\n        ],\n        \"semantic_type\": \"\",\n        \"description\": \"\"\n      }\n    },\n    {\n      \"column\": \"Total Visitor Arrivals\",\n      \"properties\": {\n        \"dtype\": \"number\",\n        \"std\": 484010,\n        \"min\": 13312,\n        \"max\": 2136504,\n        \"num_unique_values\": 83,\n        \"samples\": [\n          328059,\n          520568,\n          376106\n        ],\n        \"semantic_type\": \"\",\n        \"description\": \"\"\n      }\n    }\n  ]\n}"
            }
          },
          "metadata": {},
          "execution_count": 24
        }
      ]
    },
    {
      "cell_type": "code",
      "source": [
        "df['Year'] = pd.to_datetime(df['Month'], format='%Y-%m').dt.year"
      ],
      "metadata": {
        "id": "NFmVlcCxxBhH"
      },
      "execution_count": 25,
      "outputs": []
    },
    {
      "cell_type": "code",
      "source": [
        "yearly_data = df.groupby('Year')['Total Visitor Arrivals'].sum().reset_index()"
      ],
      "metadata": {
        "id": "duM_ZqKV_z_p"
      },
      "execution_count": 26,
      "outputs": []
    },
    {
      "cell_type": "code",
      "source": [
        "yearly_data.set_index('Year', inplace=True)"
      ],
      "metadata": {
        "id": "t8S50-ciBNUJ"
      },
      "execution_count": 27,
      "outputs": []
    },
    {
      "cell_type": "code",
      "source": [
        "print(yearly_data)"
      ],
      "metadata": {
        "colab": {
          "base_uri": "https://localhost:8080/"
        },
        "id": "1vw4EA48BRII",
        "outputId": "4a11ddfe-ac57-4873-919a-31911756a10b"
      },
      "execution_count": 28,
      "outputs": [
        {
          "output_type": "stream",
          "name": "stdout",
          "text": [
            "      Total Visitor Arrivals\n",
            "Year                        \n",
            "2018                12084204\n",
            "2019                13625597\n",
            "2020                 6348752\n",
            "2021                  610785\n",
            "2022                 2559788\n",
            "2023                 4053879\n",
            "2024                 4480150\n"
          ]
        }
      ]
    },
    {
      "cell_type": "code",
      "source": [],
      "metadata": {
        "id": "ABISj0qVpfSG"
      },
      "execution_count": 28,
      "outputs": []
    },
    {
      "cell_type": "code",
      "source": [],
      "metadata": {
        "id": "5O98uYRAqURv"
      },
      "execution_count": 28,
      "outputs": []
    },
    {
      "cell_type": "markdown",
      "source": [
        "Comparison"
      ],
      "metadata": {
        "id": "vCxpwR_vC-Mx"
      }
    },
    {
      "cell_type": "code",
      "source": [
        "train = yearly_data[:-3]\n",
        "test = yearly_data[-3:]"
      ],
      "metadata": {
        "id": "Lb99ZOPrxPCj"
      },
      "execution_count": 29,
      "outputs": []
    },
    {
      "cell_type": "code",
      "source": [
        "model = ARIMA(yearly_data['Total Visitor Arrivals'], order=(1, 1, 2))\n",
        "arima_model_fit = model.fit()"
      ],
      "metadata": {
        "colab": {
          "base_uri": "https://localhost:8080/"
        },
        "id": "tS9GyJ0ExRh0",
        "outputId": "41235ca5-9e7f-459d-dd35-e1c31883ec53"
      },
      "execution_count": 30,
      "outputs": [
        {
          "output_type": "stream",
          "name": "stderr",
          "text": [
            "/usr/local/lib/python3.11/dist-packages/statsmodels/tsa/base/tsa_model.py:473: ValueWarning: An unsupported index was provided. As a result, forecasts cannot be generated. To use the model for forecasting, use one of the supported classes of index.\n",
            "  self._init_dates(dates, freq)\n",
            "/usr/local/lib/python3.11/dist-packages/statsmodels/tsa/base/tsa_model.py:473: ValueWarning: An unsupported index was provided. As a result, forecasts cannot be generated. To use the model for forecasting, use one of the supported classes of index.\n",
            "  self._init_dates(dates, freq)\n",
            "/usr/local/lib/python3.11/dist-packages/statsmodels/tsa/base/tsa_model.py:473: ValueWarning: An unsupported index was provided. As a result, forecasts cannot be generated. To use the model for forecasting, use one of the supported classes of index.\n",
            "  self._init_dates(dates, freq)\n",
            "/usr/local/lib/python3.11/dist-packages/statsmodels/tsa/statespace/sarimax.py:866: UserWarning: Too few observations to estimate starting parameters for ARMA and trend. All parameters except for variances will be set to zeros.\n",
            "  warn('Too few observations to estimate starting parameters%s.'\n"
          ]
        }
      ]
    },
    {
      "cell_type": "code",
      "source": [
        "model = SARIMAX(yearly_data['Total Visitor Arrivals'], order=(1, 1, 2),seasonal_order=(1, 1, 2, 6))\n",
        "sarimax_model_fit = model.fit()"
      ],
      "metadata": {
        "colab": {
          "base_uri": "https://localhost:8080/"
        },
        "id": "7KVP0OhExUPU",
        "outputId": "4cf3236e-b2be-472f-93d8-c6926be0a5bd"
      },
      "execution_count": 31,
      "outputs": [
        {
          "output_type": "stream",
          "name": "stderr",
          "text": [
            "/usr/local/lib/python3.11/dist-packages/statsmodels/tsa/base/tsa_model.py:473: ValueWarning: An unsupported index was provided. As a result, forecasts cannot be generated. To use the model for forecasting, use one of the supported classes of index.\n",
            "  self._init_dates(dates, freq)\n",
            "/usr/local/lib/python3.11/dist-packages/statsmodels/tsa/base/tsa_model.py:473: ValueWarning: An unsupported index was provided. As a result, forecasts cannot be generated. To use the model for forecasting, use one of the supported classes of index.\n",
            "  self._init_dates(dates, freq)\n",
            "/usr/local/lib/python3.11/dist-packages/statsmodels/tsa/statespace/sarimax.py:866: UserWarning: Too few observations to estimate starting parameters for ARMA and trend. All parameters except for variances will be set to zeros.\n",
            "  warn('Too few observations to estimate starting parameters%s.'\n",
            "/usr/local/lib/python3.11/dist-packages/statsmodels/tsa/statespace/sarimax.py:866: UserWarning: Too few observations to estimate starting parameters for seasonal ARMA. All parameters except for variances will be set to zeros.\n",
            "  warn('Too few observations to estimate starting parameters%s.'\n",
            "/usr/local/lib/python3.11/dist-packages/statsmodels/tsa/statespace/mlemodel.py:1235: RuntimeWarning: invalid value encountered in divide\n",
            "  np.inner(score_obs, score_obs) /\n"
          ]
        }
      ]
    },
    {
      "cell_type": "code",
      "source": [
        "arima_forecast = arima_model_fit.forecast(steps=3)\n",
        "sarimax_forecast = sarimax_model_fit.get_forecast(steps=3).predicted_mean"
      ],
      "metadata": {
        "colab": {
          "base_uri": "https://localhost:8080/"
        },
        "id": "m7T-TjUXxXKD",
        "outputId": "b5d54624-aa64-4816-8320-ca3964b45341"
      },
      "execution_count": 32,
      "outputs": [
        {
          "output_type": "stream",
          "name": "stderr",
          "text": [
            "/usr/local/lib/python3.11/dist-packages/statsmodels/tsa/base/tsa_model.py:837: ValueWarning: No supported index is available. Prediction results will be given with an integer index beginning at `start`.\n",
            "  return get_prediction_index(\n",
            "/usr/local/lib/python3.11/dist-packages/statsmodels/tsa/base/tsa_model.py:837: FutureWarning: No supported index is available. In the next version, calling this method in a model without a supported index will result in an exception.\n",
            "  return get_prediction_index(\n",
            "/usr/local/lib/python3.11/dist-packages/statsmodels/tsa/base/tsa_model.py:837: ValueWarning: No supported index is available. Prediction results will be given with an integer index beginning at `start`.\n",
            "  return get_prediction_index(\n"
          ]
        }
      ]
    },
    {
      "cell_type": "code",
      "source": [
        "def calculate_metrics(actual, forecast):\n",
        "    mae = mean_absolute_error(actual, forecast)\n",
        "    mse = mean_squared_error(actual, forecast)\n",
        "    rmse = np.sqrt(mse)\n",
        "    mape = mean_absolute_percentage_error(actual, forecast) * 100\n",
        "    return mae, mse, rmse, mape"
      ],
      "metadata": {
        "id": "iEWroWf-xstK"
      },
      "execution_count": 33,
      "outputs": []
    },
    {
      "cell_type": "code",
      "source": [
        "arima_metrics = calculate_metrics(test['Total Visitor Arrivals'], arima_forecast)"
      ],
      "metadata": {
        "id": "gTHIu8zGDfHt"
      },
      "execution_count": 34,
      "outputs": []
    },
    {
      "cell_type": "code",
      "source": [
        "sarimax_metrics = calculate_metrics(test['Total Visitor Arrivals'], sarimax_forecast)"
      ],
      "metadata": {
        "id": "o-1dCRSnDonu"
      },
      "execution_count": 35,
      "outputs": []
    },
    {
      "cell_type": "code",
      "source": [
        "print(\"ARIMA Model Metrics:\")\n",
        "print(f\"MAE: {arima_metrics[0]}\")\n",
        "print(f\"MSE: {arima_metrics[1]}\")\n",
        "print(f\"RMSE: {arima_metrics[2]}\")\n",
        "print(f\"MAPE: {arima_metrics[3]}%\\n\")\n",
        "\n",
        "print(\"SARIMAX Model Metrics:\")\n",
        "print(f\"MAE: {sarimax_metrics[0]}\")\n",
        "print(f\"MSE: {sarimax_metrics[1]}\")\n",
        "print(f\"RMSE: {sarimax_metrics[2]}\")\n",
        "print(f\"MAPE: {sarimax_metrics[3]}%\\n\")"
      ],
      "metadata": {
        "colab": {
          "base_uri": "https://localhost:8080/"
        },
        "id": "yYhYZtKqDsCM",
        "outputId": "abf22764-66b7-46d8-8b57-0a584b5d2dee"
      },
      "execution_count": 36,
      "outputs": [
        {
          "output_type": "stream",
          "name": "stdout",
          "text": [
            "ARIMA Model Metrics:\n",
            "MAE: 922367.8502399583\n",
            "MSE: 1761702487361.5984\n",
            "RMSE: 1327291.4101136941\n",
            "MAPE: 33.50986650629271%\n",
            "\n",
            "SARIMAX Model Metrics:\n",
            "MAE: 6748118.333333333\n",
            "MSE: 57270164706782.336\n",
            "RMSE: 7567705.37922707\n",
            "MAPE: 174.09866169744538%\n",
            "\n"
          ]
        }
      ]
    },
    {
      "cell_type": "code",
      "source": [
        "\n",
        "\n",
        "# Metrics for ARIMA and SARIMAX models\n",
        "metrics = {\n",
        "    'Model': ['ARIMA', 'SARIMAX'],\n",
        "    'MAE': [2240014.13, 782211.0],\n",
        "    'MSE': [5861307500720.43, 1289832392161.67],\n",
        "    'RMSE': [2421013.73, 1135707.88],\n",
        "    'MAPE': [71.05, 28.51]\n",
        "}\n",
        "\n",
        "# Convert metrics to a DataFrame for plotting\n",
        "import pandas as pd\n",
        "\n",
        "metrics_df = pd.DataFrame(metrics)\n",
        "\n",
        "# Plotting the comparison of models\n",
        "fig, ax = plt.subplots(2, 2, figsize=(12, 10))\n",
        "\n",
        "# MAE Bar Chart\n",
        "ax[0, 0].bar(metrics_df['Model'], metrics_df['MAE'], color=['red', 'blue'])\n",
        "ax[0, 0].set_title('Mean Absolute Error (MAE)')\n",
        "ax[0, 0].set_ylabel('Value')\n",
        "\n",
        "# MSE Bar Chart\n",
        "ax[0, 1].bar(metrics_df['Model'], metrics_df['MSE'], color=['red', 'blue'])\n",
        "ax[0, 1].set_title('Mean Squared Error (MSE)')\n",
        "ax[0, 1].set_ylabel('Value')\n",
        "\n",
        "# RMSE Bar Chart\n",
        "ax[1, 0].bar(metrics_df['Model'], metrics_df['RMSE'], color=['red', 'blue'])\n",
        "ax[1, 0].set_title('Root Mean Squared Error (RMSE)')\n",
        "ax[1, 0].set_ylabel('Value')\n",
        "\n",
        "# MAPE Bar Chart\n",
        "ax[1, 1].bar(metrics_df['Model'], metrics_df['MAPE'], color=['red', 'blue'])\n",
        "ax[1, 1].set_title('Mean Absolute Percentage Error (MAPE)')\n",
        "ax[1, 1].set_ylabel('Value')\n",
        "\n",
        "# Display the plots\n",
        "plt.tight_layout()\n",
        "plt.show()\n"
      ],
      "metadata": {
        "colab": {
          "base_uri": "https://localhost:8080/",
          "height": 1000
        },
        "id": "j7kZW_0tqVSf",
        "outputId": "58bc51db-d510-412f-e117-ab3937a43f79"
      },
      "execution_count": 37,
      "outputs": [
        {
          "output_type": "display_data",
          "data": {
            "text/plain": [
              "<Figure size 1200x1000 with 4 Axes>"
            ],
            "image/png": "[encoded data removed]"
          },
          "metadata": {}
        }
      ]
    },
    {
      "cell_type": "code",
      "source": [],
      "metadata": {
        "id": "9QSwiLfsGZza"
      },
      "execution_count": 37,
      "outputs": []
    },
    {
      "cell_type": "code",
      "source": [
        "# Forecasting for next 3 years\n",
        "forecast_steps = 3\n",
        "arima_forecast = arima_model_fit.forecast(steps=forecast_steps)\n",
        "sarimax_forecast = sarimax_model_fit.get_forecast(steps=forecast_steps).predicted_mean\n",
        "\n",
        "# Prepare forecast years (2024, 2025, 2026)\n",
        "forecast_years = range(2024, 2024 + forecast_steps)\n",
        "\n",
        "# Calculate error metrics for both models\n",
        "def calculate_metrics(actual, forecast):\n",
        "    mae = mean_absolute_error(actual, forecast)\n",
        "    mse = mean_squared_error(actual, forecast)\n",
        "    rmse = np.sqrt(mse)\n",
        "    mape = mean_absolute_percentage_error(actual, forecast) * 100\n",
        "    return mae, mse, rmse, mape\n",
        "\n",
        "# Evaluate ARIMA model\n",
        "arima_metrics = calculate_metrics(test['Total Visitor Arrivals'], arima_forecast)\n",
        "\n",
        "# Evaluate SARIMAX model\n",
        "sarimax_metrics = calculate_metrics(test['Total Visitor Arrivals'], sarimax_forecast)\n",
        "\n",
        "# Print performance metrics\n",
        "print(\"ARIMA Model Metrics:\")\n",
        "print(f\"MAE: {arima_metrics[0]}\")\n",
        "print(f\"MSE: {arima_metrics[1]}\")\n",
        "print(f\"RMSE: {arima_metrics[2]}\")\n",
        "print(f\"MAPE: {arima_metrics[3]}%\\n\")\n",
        "\n",
        "print(\"SARIMAX Model Metrics:\")\n",
        "print(f\"MAE: {sarimax_metrics[0]}\")\n",
        "print(f\"MSE: {sarimax_metrics[1]}\")\n",
        "print(f\"RMSE: {sarimax_metrics[2]}\")\n",
        "print(f\"MAPE: {sarimax_metrics[3]}%\\n\")\n",
        "\n",
        "# Plotting the comparison for the next 3 years (2024, 2025, 2026)\n",
        "plt.figure(figsize=(10, 6))\n",
        "plt.plot(train.index, train['Total Visitor Arrivals'], label='Training Data')\n",
        "plt.plot(test.index, test['Total Visitor Arrivals'], label='Actual Data', color='black')\n",
        "plt.plot(forecast_years, arima_forecast, label='ARIMA Forecast', color='red')\n",
        "plt.plot(forecast_years, sarimax_forecast, label='SARIMAX Forecast', color='blue')\n",
        "plt.title('ARIMA vs SARIMAX Forecast Comparison')\n",
        "plt.xlabel('Year')\n",
        "plt.ylabel('Total Visitor Arrivals')\n",
        "plt.xticks(np.append(train.index, forecast_years))  # Ensure X-axis includes forecast years\n",
        "plt.legend()\n",
        "plt.show()\n"
      ],
      "metadata": {
        "colab": {
          "base_uri": "https://localhost:8080/",
          "height": 912
        },
        "id": "9GkfGeC-sqc2",
        "outputId": "0b37e7c3-2d66-4c9a-be4e-10e14fffcb34"
      },
      "execution_count": 38,
      "outputs": [
        {
          "output_type": "stream",
          "name": "stderr",
          "text": [
            "/usr/local/lib/python3.11/dist-packages/statsmodels/tsa/base/tsa_model.py:837: ValueWarning: No supported index is available. Prediction results will be given with an integer index beginning at `start`.\n",
            "  return get_prediction_index(\n",
            "/usr/local/lib/python3.11/dist-packages/statsmodels/tsa/base/tsa_model.py:837: FutureWarning: No supported index is available. In the next version, calling this method in a model without a supported index will result in an exception.\n",
            "  return get_prediction_index(\n",
            "/usr/local/lib/python3.11/dist-packages/statsmodels/tsa/base/tsa_model.py:837: ValueWarning: No supported index is available. Prediction results will be given with an integer index beginning at `start`.\n",
            "  return get_prediction_index(\n"
          ]
        },
        {
          "output_type": "stream",
          "name": "stdout",
          "text": [
            "ARIMA Model Metrics:\n",
            "MAE: 922367.8502399583\n",
            "MSE: 1761702487361.5984\n",
            "RMSE: 1327291.4101136941\n",
            "MAPE: 33.50986650629271%\n",
            "\n",
            "SARIMAX Model Metrics:\n",
            "MAE: 6748118.333333333\n",
            "MSE: 57270164706782.336\n",
            "RMSE: 7567705.37922707\n",
            "MAPE: 174.09866169744538%\n",
            "\n"
          ]
        },
        {
          "output_type": "display_data",
          "data": {
            "text/plain": [
              "<Figure size 1000x600 with 1 Axes>"
            ],
            "image/png": "[encoded data removed]"
          },
          "metadata": {}
        }
      ]
    }
  ]
}